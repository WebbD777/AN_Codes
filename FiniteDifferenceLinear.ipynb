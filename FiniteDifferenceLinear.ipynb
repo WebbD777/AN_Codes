{
  "nbformat": 4,
  "nbformat_minor": 0,
  "metadata": {
    "colab": {
      "provenance": [],
      "name": "FiniteDifferenceLinear.ipynb",
      "authorship_tag": "ABX9TyOc7nsseJi92UVSMVDSrgjE",
      "include_colab_link": true
    },
    "kernelspec": {
      "name": "python3",
      "display_name": "Python 3"
    },
    "language_info": {
      "name": "python"
    }
  },
  "cells": [
    {
      "cell_type": "markdown",
      "metadata": {
        "id": "view-in-github",
        "colab_type": "text"
      },
      "source": [
        "<a href=\"https://colab.research.google.com/github/WebbD777/AN_Codes/blob/main/FiniteDifferenceLinear.ipynb\" target=\"_parent\"><img src=\"https://colab.research.google.com/assets/colab-badge.svg\" alt=\"Open In Colab\"/></a>"
      ]
    },
    {
      "cell_type": "code",
      "execution_count": null,
      "metadata": {
        "id": "pNBgwXKQzpc3"
      },
      "outputs": [],
      "source": [
        "import math\n",
        "import matplotlib.pyplot as plt\n",
        "import numpy as np"
      ]
    },
    {
      "cell_type": "markdown",
      "source": [
        "# Equation is: y'' + y - 1 = 0\n",
        "## BC: y(0)=0 , y(1)=0\n",
        "h = 0.25\n",
        "\n",
        "yn-1(1 + h/2 * 0)\n",
        "\n",
        "yn(-2 - h^2 * 1)\n",
        "\n",
        "yn+1(1-h/2 * 0 )\n",
        "\n",
        "r = 1*h^2"
      ],
      "metadata": {
        "id": "tKbPtGLf3FVa"
      }
    },
    {
      "cell_type": "code",
      "source": [
        "a , b = 0 , 1\n",
        "N  = 4\n",
        "h = (b-a)/N\n",
        "step=0\n",
        "xj = 0\n",
        "j = 0\n",
        "\n",
        "# define array\n",
        "A= np.zeros((N-1,N-1))\n",
        "while j <= N-2:\n",
        "\n",
        "  if j != 0:\n",
        "    A[j, j-1] = 1\n",
        "\n",
        "  A[j, j] = -2 -h**2\n",
        "\n",
        "  if j < N - 2:\n",
        "    A[j, j+1] = 1\n",
        "\n",
        "  xj += h\n",
        "  j = j + 1\n",
        "\n",
        "print(A)\n",
        "\n",
        "# Define soln array\n",
        "b = np.zeros(N-1)\n",
        "b[0] = h**2 * 1 - (1 + h/2*1)*0\n",
        "b[1:-1] = h**2 * 1\n",
        "b[-1] = h**2 * 1 - (1 + h/2*1)*0\n",
        "print(b)\n",
        "\n",
        "# solve system eqns\n",
        "y = np.linalg.solve(A, b)\n",
        "print(y)"
      ],
      "metadata": {
        "colab": {
          "base_uri": "https://localhost:8080/"
        },
        "id": "-72YPxnW3CzX",
        "outputId": "091265f9-774b-404e-d32a-b064650f3072"
      },
      "execution_count": null,
      "outputs": [
        {
          "output_type": "stream",
          "name": "stdout",
          "text": [
            "[[-2.0625  1.      0.    ]\n",
            " [ 1.     -2.0625  1.    ]\n",
            " [ 0.      1.     -2.0625]]\n",
            "[0.0625 0.0625 0.0625]\n",
            "[-0.08492201 -0.11265165 -0.08492201]\n"
          ]
        }
      ]
    }
  ]
}